{
  "nbformat": 4,
  "nbformat_minor": 0,
  "metadata": {
    "colab": {
      "provenance": []
    },
    "kernelspec": {
      "name": "python3",
      "display_name": "Python 3"
    },
    "language_info": {
      "name": "python"
    }
  },
  "cells": [
    {
      "cell_type": "markdown",
      "source": [
        "**Import mnist, PIL, sklearn libraries**"
      ],
      "metadata": {
        "id": "1yGMDbUPb7mV"
      }
    },
    {
      "cell_type": "code",
      "execution_count": 1,
      "metadata": {
        "id": "4Bgxy0BLbWRL"
      },
      "outputs": [],
      "source": [
        "import mnist\n",
        "from PIL import Image\n",
        "import numpy as np\n",
        "from sklearn.neural_network import MLPClassifier\n",
        "from sklearn.metrics import confusion_matrix"
      ]
    },
    {
      "cell_type": "markdown",
      "source": [
        "**Train & Test**"
      ],
      "metadata": {
        "id": "VH6D9OMWcW-A"
      }
    },
    {
      "cell_type": "code",
      "source": [
        "x_train = mnist.train_images()\n",
        "y_train = mnist.train_labels()\n",
        "\n",
        "x_test = mnist.test_images()\n",
        "y_test = mnist.test_labels()\n",
        "\n",
        "x_train = x_train.reshape((-1, 28*28))\n",
        "x_test = x_test.reshape((-1, 28*28))"
      ],
      "metadata": {
        "id": "pn1UkvdLcEuh"
      },
      "execution_count": 2,
      "outputs": []
    },
    {
      "cell_type": "markdown",
      "source": [
        "**Optimize model by scale dataset**"
      ],
      "metadata": {
        "id": "lPFjJz0xi5Dg"
      }
    },
    {
      "cell_type": "code",
      "source": [
        "x_train = (x_train/256)\n",
        "x_test = (x_test/256)\n",
        "\n",
        "print('x_train', x_train)\n",
        "print('x_test', x_test)\n",
        "print('y_train', y_train)"
      ],
      "metadata": {
        "colab": {
          "base_uri": "https://localhost:8080/"
        },
        "id": "awvJcHWii3mv",
        "outputId": "c7ebeb6f-2883-4651-9c03-1907e86c84b7"
      },
      "execution_count": 3,
      "outputs": [
        {
          "output_type": "stream",
          "name": "stdout",
          "text": [
            "x_train [[0. 0. 0. ... 0. 0. 0.]\n",
            " [0. 0. 0. ... 0. 0. 0.]\n",
            " [0. 0. 0. ... 0. 0. 0.]\n",
            " ...\n",
            " [0. 0. 0. ... 0. 0. 0.]\n",
            " [0. 0. 0. ... 0. 0. 0.]\n",
            " [0. 0. 0. ... 0. 0. 0.]]\n",
            "x_test [[0. 0. 0. ... 0. 0. 0.]\n",
            " [0. 0. 0. ... 0. 0. 0.]\n",
            " [0. 0. 0. ... 0. 0. 0.]\n",
            " ...\n",
            " [0. 0. 0. ... 0. 0. 0.]\n",
            " [0. 0. 0. ... 0. 0. 0.]\n",
            " [0. 0. 0. ... 0. 0. 0.]]\n",
            "y_train [5 0 4 ... 5 6 8]\n"
          ]
        }
      ]
    },
    {
      "cell_type": "markdown",
      "source": [
        "**Dimesions**"
      ],
      "metadata": {
        "id": "l8c5rtPOjOjd"
      }
    },
    {
      "cell_type": "code",
      "source": [
        "print(x_train.ndim)\n",
        "print(x_test.shape)"
      ],
      "metadata": {
        "colab": {
          "base_uri": "https://localhost:8080/"
        },
        "id": "FDa0J3qHjMGp",
        "outputId": "da2660d5-8034-479b-fb69-1f2cec06d13c"
      },
      "execution_count": 4,
      "outputs": [
        {
          "output_type": "stream",
          "name": "stdout",
          "text": [
            "2\n",
            "(10000, 784)\n"
          ]
        }
      ]
    },
    {
      "cell_type": "markdown",
      "source": [
        "**optimize model by scale dataset**"
      ],
      "metadata": {
        "id": "F353gEY5jdsz"
      }
    },
    {
      "cell_type": "code",
      "source": [
        "x_train = (x_train/256)\n",
        "x_test = (x_test/256)"
      ],
      "metadata": {
        "id": "WQsZtIUzjclp"
      },
      "execution_count": 5,
      "outputs": []
    },
    {
      "cell_type": "code",
      "source": [
        "clf = MLPClassifier(solver='adam', activation='relu', hidden_layer_sizes=(64*64))\n",
        "clf.fit(x_train, y_train)"
      ],
      "metadata": {
        "colab": {
          "base_uri": "https://localhost:8080/"
        },
        "id": "nC1N-jmFjhsT",
        "outputId": "760affd7-fa64-4b6d-ce77-516f82a36ec8"
      },
      "execution_count": 7,
      "outputs": [
        {
          "output_type": "stream",
          "name": "stderr",
          "text": [
            "/usr/local/lib/python3.8/dist-packages/sklearn/neural_network/_multilayer_perceptron.py:699: UserWarning: Training interrupted by user.\n",
            "  warnings.warn(\"Training interrupted by user.\")\n"
          ]
        },
        {
          "output_type": "execute_result",
          "data": {
            "text/plain": [
              "MLPClassifier(hidden_layer_sizes=4096)"
            ]
          },
          "metadata": {},
          "execution_count": 7
        }
      ]
    },
    {
      "cell_type": "code",
      "source": [],
      "metadata": {
        "id": "c544gLSLjlLt"
      },
      "execution_count": null,
      "outputs": []
    }
  ]
}